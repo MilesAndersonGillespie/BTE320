{
  "nbformat": 4,
  "nbformat_minor": 0,
  "metadata": {
    "colab": {
      "provenance": [],
      "authorship_tag": "ABX9TyM8hHBiGhCkTWQEwCSE9nlh",
      "include_colab_link": true
    },
    "kernelspec": {
      "name": "python3",
      "display_name": "Python 3"
    },
    "language_info": {
      "name": "python"
    }
  },
  "cells": [
    {
      "cell_type": "markdown",
      "metadata": {
        "id": "view-in-github",
        "colab_type": "text"
      },
      "source": [
        "<a href=\"https://colab.research.google.com/github/MilesAndersonGillespie/BTE320/blob/main/BTE320_E_In_Class_Assignments.ipynb\" target=\"_parent\"><img src=\"https://colab.research.google.com/assets/colab-badge.svg\" alt=\"Open In Colab\"/></a>"
      ]
    },
    {
      "cell_type": "markdown",
      "source": [
        "Cylinder Area Calculator"
      ],
      "metadata": {
        "id": "JqWJNbaub_uy"
      }
    },
    {
      "cell_type": "code",
      "execution_count": null,
      "metadata": {
        "id": "T07FeO7Oy7Yr"
      },
      "outputs": [],
      "source": [
        "'''\n",
        "This code calculates the area of a cylinder in square feet, given the radius (in feet) and the height (in feet).\n",
        "'''\n",
        "\n",
        "pi = 3.14\n",
        "radius = float(input('Please provide radius: '))\n",
        "height = float(input('Please provide height of cylinder: '))\n",
        "# This section defines pi and requests radius and height of cylinder from user.\n",
        "\n",
        "area = (2 * pi * (radius ** 2)) + (2 * pi * radius * height)\n",
        "print(f'Area of cylinder = {area} sq. ft')\n",
        "# This section calculates the area of the cylinder and displays it for the user."
      ]
    },
    {
      "cell_type": "markdown",
      "source": [
        "Numerical Calculator\n",
        "\n"
      ],
      "metadata": {
        "id": "LVzT3KuacFs4"
      }
    },
    {
      "cell_type": "code",
      "source": [
        "'''\n",
        "This code acts like a handheld calculator and calculates the result of seven different operations given two numbers.\n",
        "'''\n",
        "\n",
        "first_number = float(input('Please enter first number: '))\n",
        "operator = input('Please enter operation (e.g., +, -, *, /, //, **, %): ')\n",
        "second_number = float(input('Please enter second number: '))\n",
        "# This section requests the operator and the first and second numbers from the user.\n",
        "\n",
        "if operator == '+':\n",
        "  print(f'{first_number} {operator} {second_number} = {first_number + second_number}')\n",
        "elif operator == '-':\n",
        "  print(f'{first_number} {operator} {second_number} = {first_number - second_number}')\n",
        "elif operator == '*':\n",
        "  print(f'{first_number} {operator} {second_number} = {first_number * second_number}')\n",
        "elif operator == '/':\n",
        "  print(f'{first_number} {operator} {second_number} = {first_number / second_number}')\n",
        "elif operator == '//':\n",
        "  print(f'{first_number} {operator} {second_number} = {first_number // second_number}')\n",
        "elif operator == '**':\n",
        "  print(f'{first_number} {operator} {second_number} = {first_number ** second_number}')\n",
        "elif operator == '%':\n",
        "  print(f'{first_number} {operator} {second_number} = {first_number % second_number}')\n",
        "else:\n",
        "  print('Invalid Operator')\n",
        "# This section calculates and prints the result."
      ],
      "metadata": {
        "id": "VXVZ9b6-b-ZL"
      },
      "execution_count": null,
      "outputs": []
    },
    {
      "cell_type": "markdown",
      "source": [
        "Parking Garage"
      ],
      "metadata": {
        "id": "-riud-JtWF6d"
      }
    },
    {
      "cell_type": "code",
      "source": [
        "'''\n",
        "This code displays a table with the number of hours someone spends parked in a parking garage in the left column and the price in the right column.\n",
        "'''\n",
        "\n",
        "for hours in range(1,9): # This line acts as a counter, counting the number of hours from one to eight.\n",
        "  charge = 5 + hours * 2.5 # This line calculates the price given the number of hours.\n",
        "  if charge <= 10: # There is a minimum charge of $10.0, so this assigns $10.0 to any charge less than or equal to $10.0.\n",
        "    charge = 10.0\n",
        "  elif charge >= 20: # There is a maximum charge of $20.0, so this assigns $20.0 to any charge greater than or equal to $20.0.\n",
        "    charge = 20.0\n",
        "  print(hours,charge) #This line displays the chart with hours on the left and the price on the right."
      ],
      "metadata": {
        "id": "zou3bH-XTPvo"
      },
      "execution_count": null,
      "outputs": []
    },
    {
      "cell_type": "markdown",
      "source": [
        "Movie Theater"
      ],
      "metadata": {
        "id": "5CY5O67aV_sb"
      }
    },
    {
      "cell_type": "code",
      "source": [
        "'''\n",
        "This code displays a table with the amount of profit for a movie theater in the right column, dependent on x amounts of advertising spending in the left column.\n",
        "'''\n",
        "\n",
        "import math\n",
        "print('Advertising\\t','Profit')\n",
        "# This imports the math package which will be used in a later operation and displays the column titles.\n",
        "\n",
        "for advertising in range(0,201,25):\n",
        "  attendance = 20 + 2 * round(math.sqrt(advertising))\n",
        "  profit = attendance * 10 - advertising - 200\n",
        "  print(advertising,'\\t\\t',profit)\n",
        "'''\n",
        "This counts the advertising spending from zero to two-hundred in increments of twenty-five.\n",
        "It calculates the expected attendance based on advertising spending, and proceeds to calculate the profit.\n",
        "It then displays this on the table.\n",
        "'''"
      ],
      "metadata": {
        "id": "MHWuyopOTS-_"
      },
      "execution_count": null,
      "outputs": []
    },
    {
      "cell_type": "markdown",
      "source": [
        "Rock - Paper - Scissors"
      ],
      "metadata": {
        "id": "x3BsUbn94pnD"
      }
    },
    {
      "cell_type": "code",
      "source": [
        "'''\n",
        "This code asks whether the user would like to play a game of Rock - Paper - Scissors.\n",
        "If he is interested, it allows him to play a game and determines the winner.\n",
        "It allows him to play as many times as he desires.\n",
        "'''\n",
        "\n",
        "import random # This imports the random package so that the computer can determine which move to play.\n",
        "play = input(\"Would you like to play Rock - Paper - Scissors (Yes / No)?\") # This determines whether the user would like to play or not.\n",
        "\n",
        "while play == 'Yes': # This while loop allows the user to continue playing until he no longer desires to play.\n",
        "  user = input(\"What is your move (Rock / Paper / Scissors)?\") # This asks the user for his desired move.\n",
        "  computer = random.choice(['Rock','Paper','Scissors']) # This makes the computer determine which move to play.\n",
        "  print(f'Player chose {user}; Computer chose {computer}.') # This displays the two moves.\n",
        "  if user == computer: # This section displays that there is a draw.\n",
        "    print(\"It is a draw!\")\n",
        "  elif ((user == 'Rock' and computer == 'Scissors') or\n",
        "    (user == 'Paper' and computer == 'Rock') or\n",
        "    (user == 'Scissors' and computer == 'Paper')): # This sections displays when the user wins.\n",
        "    print(\"Player Wins!\")\n",
        "  else: # This sections displays when the computer wins.\n",
        "    print(\"Computer Wins!\")\n",
        "  play = input(\"Would you like to play again (Yes / No)?\") # This determines whether the user would like to play again.\n",
        "\n",
        "print(\"Thank you for your time!\")\n",
        "# This thanks the user for using the application."
      ],
      "metadata": {
        "id": "mMdWY99r54c9"
      },
      "execution_count": null,
      "outputs": []
    },
    {
      "cell_type": "markdown",
      "source": [
        "Reverse List"
      ],
      "metadata": {
        "id": "ibQA01Hd5QtC"
      }
    },
    {
      "cell_type": "code",
      "source": [
        "'''\n",
        "This code asks the user for numbers that are added to a list until the number 0.0 is provided.\n",
        "The code then displays the numbers in descending order.\n",
        "'''\n",
        "\n",
        "L = [] # This establishes list \"L.\"\n",
        "x = float(input(\"Please enter a number into this list:\")) # This asks for the first number.\n",
        "\n",
        "while x != 0.0: # This establishes a loop that will continue to ask the user for a number until a 0.0 is inputed.\n",
        "  L.append(x) # This adds the last entered number into the list.\n",
        "  x = float(input(\"Please enter a number into this list:\")) # This asks the user for another number.\n",
        "\n",
        "L.sort(reverse=True) # This sorts list in descending order.\n",
        "print(L) # This displays the list."
      ],
      "metadata": {
        "id": "Bsr-WWLv_j0I"
      },
      "execution_count": null,
      "outputs": []
    },
    {
      "cell_type": "markdown",
      "source": [
        "Numbered Months"
      ],
      "metadata": {
        "id": "9A0E6uSH50bn"
      }
    },
    {
      "cell_type": "code",
      "source": [
        "months = {}\n",
        "\n",
        "names = [\"January\", \"February\", \"March\", \"April\", \"May\", \"June\",\n",
        "         \"July\", \"August\", \"September\", \"October\", \"November\", \"December\"]\n",
        "numbers = [1,2,3,4,5,6,7,8,9,10,11,12]\n",
        "\n",
        "for idx in range(len(numbers)):\n",
        "  months[numbers[idx]] = names[idx]\n",
        "\n",
        "  print(months)"
      ],
      "metadata": {
        "id": "VfwLnj_s5Nd0"
      },
      "execution_count": null,
      "outputs": []
    },
    {
      "cell_type": "markdown",
      "source": [
        "Input List"
      ],
      "metadata": {
        "id": "gSfYVO8d51FE"
      }
    },
    {
      "cell_type": "code",
      "source": [
        "'''\n",
        "This code collects five inputs (strings) from the user and displays them as a list with frequency.\n",
        "'''\n",
        "\n",
        "counts = {} #This establishes list \"counts.\"\n",
        "\n",
        "while len(counts) < 5: # This repeatedly asks the user for the input as long as there has not been more than five inputs.\n",
        "  key = input(\"Input a string: \") # This asks the user for inputs.\n",
        "  if key not in counts: # This saves new input and applies a quantity of one.\n",
        "    counts[key] = 1\n",
        "  else: # This saves repeated inputs by adding one to the quantity.\n",
        "    counts[key] += 1\n",
        "\n",
        "print(counts) # This displays the list with quantities."
      ],
      "metadata": {
        "id": "U-6l6OFH5yzF"
      },
      "execution_count": null,
      "outputs": []
    },
    {
      "cell_type": "markdown",
      "source": [
        "Parking Garage (Updated)"
      ],
      "metadata": {
        "id": "ty5ahjTU51xG"
      }
    },
    {
      "cell_type": "code",
      "source": [
        "'''\n",
        "This code calculates and displays the charge for parking based on the number of hours parked.\n",
        "'''\n",
        "\n",
        "def calcFee(hours):\n",
        "  charge = 5 + hours * 2.5\n",
        "  if charge < 10:\n",
        "    charge = 10.0\n",
        "  elif charge > 20:\n",
        "    charge = 20.0\n",
        "  print(f'Fee: ${charge}')\n",
        " # This creates function \"calcFee\" that calculates the charge for parking based on the number of hours parked.\n",
        "\n",
        "def main():\n",
        "  hours = float(input(\"Please enter the number of hours parked: \"))\n",
        "  calcFee(hours)\n",
        "main()\n",
        "# This creates another function \"main\" that asks the user for the number of hours parked and runs that value through function \"calcFee\" and prints the result."
      ],
      "metadata": {
        "id": "zJUJFNl-XKTM"
      },
      "execution_count": null,
      "outputs": []
    }
  ]
}