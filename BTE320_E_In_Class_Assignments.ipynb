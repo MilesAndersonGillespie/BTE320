{
  "nbformat": 4,
  "nbformat_minor": 0,
  "metadata": {
    "colab": {
      "provenance": [],
      "authorship_tag": "ABX9TyNTuefN2PrDCFELrzWJXm/R",
      "include_colab_link": true
    },
    "kernelspec": {
      "name": "python3",
      "display_name": "Python 3"
    },
    "language_info": {
      "name": "python"
    }
  },
  "cells": [
    {
      "cell_type": "markdown",
      "metadata": {
        "id": "view-in-github",
        "colab_type": "text"
      },
      "source": [
        "<a href=\"https://colab.research.google.com/github/MilesAndersonGillespie/BTE320/blob/main/BTE320_E_In_Class_Assignments.ipynb\" target=\"_parent\"><img src=\"https://colab.research.google.com/assets/colab-badge.svg\" alt=\"Open In Colab\"/></a>"
      ]
    },
    {
      "cell_type": "markdown",
      "source": [
        "Cylinder Area Calculator"
      ],
      "metadata": {
        "id": "JqWJNbaub_uy"
      }
    },
    {
      "cell_type": "code",
      "execution_count": null,
      "metadata": {
        "id": "T07FeO7Oy7Yr"
      },
      "outputs": [],
      "source": [
        "'''\n",
        "This code calculates the area of a cylinder in square feet, given the radius (in feet) and the height (in feet).\n",
        "'''\n",
        "\n",
        "pi = 3.14\n",
        "radius = float(input('Please provide radius: '))\n",
        "height = float(input('Please provide height of cylinder: '))\n",
        "# This section defines pi and requests radius and height of cylinder from user.\n",
        "\n",
        "area = (2 * pi * (radius ** 2)) + (2 * pi * radius * height)\n",
        "print(f'Area of cylinder = {area} sq. ft')\n",
        "# This section calculates the area of the cylinder and displays it for the user."
      ]
    },
    {
      "cell_type": "markdown",
      "source": [
        "Numerical Calculator\n",
        "\n"
      ],
      "metadata": {
        "id": "LVzT3KuacFs4"
      }
    },
    {
      "cell_type": "code",
      "source": [
        "'''\n",
        "This code acts like a handheld calculator and calculates the result of seven different operations given two numbers.\n",
        "'''\n",
        "\n",
        "first_number = float(input('Please enter first number: '))\n",
        "operator = input('Please enter operation (e.g., +, -, *, /, //, **, %): ')\n",
        "second_number = float(input('Please enter second number: '))\n",
        "# This section requests the operator and the first and second numbers from the user.\n",
        "\n",
        "if operator == '+':\n",
        "  print(f'{first_number} {operator} {second_number} = {first_number + second_number}')\n",
        "elif operator == '-':\n",
        "  print(f'{first_number} {operator} {second_number} = {first_number - second_number}')\n",
        "elif operator == '*':\n",
        "  print(f'{first_number} {operator} {second_number} = {first_number * second_number}')\n",
        "elif operator == '/':\n",
        "  print(f'{first_number} {operator} {second_number} = {first_number / second_number}')\n",
        "elif operator == '//':\n",
        "  print(f'{first_number} {operator} {second_number} = {first_number // second_number}')\n",
        "elif operator == '**':\n",
        "  print(f'{first_number} {operator} {second_number} = {first_number ** second_number}')\n",
        "elif operator == '%':\n",
        "  print(f'{first_number} {operator} {second_number} = {first_number % second_number}')\n",
        "else:\n",
        "  print('Invalid Operator')\n",
        "# This section calculates and prints the result."
      ],
      "metadata": {
        "id": "VXVZ9b6-b-ZL"
      },
      "execution_count": null,
      "outputs": []
    },
    {
      "cell_type": "markdown",
      "source": [
        "Parking Garage"
      ],
      "metadata": {
        "id": "-riud-JtWF6d"
      }
    },
    {
      "cell_type": "code",
      "source": [
        "'''\n",
        "This code displays a table with the number of hours someone spends parked in a parking garage in the left column and the price in the right column.\n",
        "'''\n",
        "\n",
        "for hours in range(1,9): # This line acts as a counter, counting the number of hours from one to eight.\n",
        "  charge = 5 + hours * 2.5 # This line calculates the price given the number of hours.\n",
        "  if charge <= 10: # There is a minimum charge of $10.0, so this assigns $10.0 to any charge less than or equal to $10.0.\n",
        "    charge = 10.0\n",
        "  elif charge >= 20: # There is a maximum charge of $20.0, so this assigns $20.0 to any charge greater than or equal to $20.0.\n",
        "    charge = 20.0\n",
        "  print(hours,charge) #This line displays the chart with hours on the left and the price on the right."
      ],
      "metadata": {
        "id": "zou3bH-XTPvo"
      },
      "execution_count": null,
      "outputs": []
    },
    {
      "cell_type": "markdown",
      "source": [
        "Movie Theater"
      ],
      "metadata": {
        "id": "5CY5O67aV_sb"
      }
    },
    {
      "cell_type": "code",
      "source": [
        "'''\n",
        "This code displays a table with the amount of profit for a movie theater in the right column, dependent on x amounts of advertising spending in the left column.\n",
        "'''\n",
        "\n",
        "import math\n",
        "print('Advertising\\t','Profit')\n",
        "# This imports the math package which will be used in a later operation and displays the column titles.\n",
        "\n",
        "for advertising in range(0,201,25):\n",
        "  attendance = 20 + 2 * round(math.sqrt(advertising))\n",
        "  profit = attendance * 10 - advertising - 200\n",
        "  print(advertising,'\\t\\t',profit)"
      ],
      "metadata": {
        "id": "MHWuyopOTS-_"
      },
      "execution_count": null,
      "outputs": []
    },
    {
      "cell_type": "markdown",
      "source": [
        "Rock - Paper - Scissors"
      ],
      "metadata": {
        "id": "x3BsUbn94pnD"
      }
    },
    {
      "cell_type": "code",
      "source": [
        "'''\n",
        "This code asks whether the user would like to play a game of Rock - Paper - Scissors.\n",
        "If he is interested, it allows him to play a game and determines the winner.\n",
        "It allows him to play as many times as he desires.\n",
        "'''\n",
        "\n",
        "import random # This imports the random package so that the computer can determine which move to play.\n",
        "play = input(\"Would you like to play Rock - Paper - Scissors (Yes / No)?\") # This determines whether the user would like to play or not.\n",
        "\n",
        "while play == 'Yes': # This while loop allows the user to continue playing until he no longer desires to play.\n",
        "  user = input(\"What is your move (Rock / Paper / Scissors)?\") # This asks the user for his desired move.\n",
        "  computer = random.choice(['Rock','Paper','Scissors']) # This makes the computer determine which move to play.\n",
        "  print(f'Player chose {user}; Computer chose {computer}.') # This displays the two moves.\n",
        "  if user == computer: # This section displays that there is a draw.\n",
        "    print(\"It is a draw!\")\n",
        "  elif ((user == 'Rock' and computer == 'Scissors') or\n",
        "    (user == 'Paper' and computer == 'Rock') or\n",
        "    (user == 'Scissors' and computer == 'Paper')): # This sections displays when the user wins.\n",
        "    print(\"Player Wins!\")\n",
        "  else: # This sections displays when the computer wins.\n",
        "    print(\"Computer Wins!\")\n",
        "  play = input(\"Would you like to play again (Yes / No)?\") # This determines whether the user would like to play again.\n",
        "\n",
        "print(\"Thank you for your time!\")\n",
        "# This thanks the user for using the application."
      ],
      "metadata": {
        "id": "mMdWY99r54c9"
      },
      "execution_count": null,
      "outputs": []
    },
    {
      "cell_type": "markdown",
      "source": [
        "Append Items to List Iteratively"
      ],
      "metadata": {
        "id": "ibQA01Hd5QtC"
      }
    },
    {
      "cell_type": "code",
      "source": [
        "'''\n",
        "This code asks the user for numbers that are added to a list until the number 0.0 is provided.\n",
        "The code then displays the numbers in descending order.\n",
        "'''\n",
        "\n",
        "L = [] # This establishes list \"L.\"\n",
        "x = float(input(\"Please enter a number into this list:\")) # This asks for the first number.\n",
        "\n",
        "while x != 0.0: # This establishes a loop that will continue to ask the user for a number until a 0.0 is inputed.\n",
        "  L.append(x) # This adds the last entered number into the list.\n",
        "  x = float(input(\"Please enter a number into this list:\")) # This asks the user for another number.\n",
        "\n",
        "L.sort(reverse=True) # This sorts list in descending order.\n",
        "print(L) # This displays the list."
      ],
      "metadata": {
        "id": "Bsr-WWLv_j0I"
      },
      "execution_count": null,
      "outputs": []
    },
    {
      "cell_type": "markdown",
      "source": [
        "Dynamic Dictionary of Number:Month Pairs"
      ],
      "metadata": {
        "id": "9A0E6uSH50bn"
      }
    },
    {
      "cell_type": "code",
      "source": [
        "'''\n",
        "This code prints the months beside there number in the year from 1 to 12, January to December.\n",
        "'''\n",
        "\n",
        "months = {}\n",
        "names = [\"January\", \"February\", \"March\", \"April\", \"May\", \"June\", \"July\", \"August\", \"September\", \"October\", \"November\", \"December\"]\n",
        "numbers = [1,2,3,4,5,6,7,8,9,10,11,12]\n",
        "# This section establishes the months and numbers.\n",
        "\n",
        "for num in numbers:\n",
        "  months[num] = names[num - 1]\n",
        "# This section assigns months and numbers to each other in the dictionary.\n",
        "\n",
        "months\n",
        "# This prints the months dictionary."
      ],
      "metadata": {
        "id": "VfwLnj_s5Nd0"
      },
      "execution_count": null,
      "outputs": []
    },
    {
      "cell_type": "markdown",
      "source": [
        "Dynamic Dictionary; 5 Distinct Key:Value Pairs"
      ],
      "metadata": {
        "id": "gSfYVO8d51FE"
      }
    },
    {
      "cell_type": "code",
      "source": [
        "'''\n",
        "This code collects five inputs (strings) from the user and displays them as a list with frequency.\n",
        "'''\n",
        "\n",
        "counts = {} #This establishes list \"counts.\"\n",
        "\n",
        "while len(counts) < 5: # This repeatedly asks the user for the input as long as there has not been more than five inputs.\n",
        "  key = input(\"Input a string: \") # This asks the user for inputs.\n",
        "  if key not in counts: # This saves new input and applies a quantity of one.\n",
        "    counts[key] = 1\n",
        "  else: # This saves repeated inputs by adding one to the quantity.\n",
        "    counts[key] += 1\n",
        "\n",
        "print(counts) # This displays the list with quantities."
      ],
      "metadata": {
        "id": "U-6l6OFH5yzF"
      },
      "execution_count": null,
      "outputs": []
    },
    {
      "cell_type": "markdown",
      "source": [
        "Parking Garage: calcFee Function"
      ],
      "metadata": {
        "id": "ty5ahjTU51xG"
      }
    },
    {
      "cell_type": "code",
      "source": [
        "'''\n",
        "This code calculates and displays the charge for parking based on the number of hours parked.\n",
        "'''\n",
        "\n",
        "def calcFee(hours):\n",
        "  charge = 5 + hours * 2.5\n",
        "  if charge < 10:\n",
        "    charge = 10.0\n",
        "  elif charge > 20:\n",
        "    charge = 20.0\n",
        "  print(f'Fee: ${charge}')\n",
        " # This creates function \"calcFee\" that calculates the charge for parking based on the number of hours parked.\n",
        "\n",
        "def main():\n",
        "  hours = float(input(\"Please enter the number of hours parked: \"))\n",
        "  calcFee(hours)\n",
        "main()\n",
        "# This creates another function \"main\" that asks the user for the number of hours parked and runs that value through function \"calcFee\" and prints the result."
      ],
      "metadata": {
        "id": "zJUJFNl-XKTM"
      },
      "execution_count": null,
      "outputs": []
    },
    {
      "cell_type": "markdown",
      "source": [
        "Recursive Function: String Reversal"
      ],
      "metadata": {
        "id": "QWgOyH77AAJv"
      }
    },
    {
      "cell_type": "code",
      "source": [
        "'''\n",
        "This code accepts a string and reverses the order of its characters.\n",
        "'''\n",
        "\n",
        "def reverse(s):\n",
        "  if len(s) == 1:\n",
        "    return s\n",
        "  else:\n",
        "    return s[-1] + reverse(s[:-1])\n",
        "# This section establishes a function that reverses the order of the characters of the string.\n",
        "\n",
        "reverse(input(\"Enter string to be revered: \"))\n",
        "# This section accepts and input string and uses the function to reverse its characters."
      ],
      "metadata": {
        "id": "2OHKae9np9nx"
      },
      "execution_count": null,
      "outputs": []
    },
    {
      "cell_type": "markdown",
      "source": [
        "Parking Garage Using Exception Handling"
      ],
      "metadata": {
        "id": "V9uc70Vkz9-i"
      }
    },
    {
      "cell_type": "code",
      "source": [
        "'''\n",
        "This code calculates and displays the charge for parking based on the number of hours parked.\n",
        "'''\n",
        "\n",
        "def calcFee(hours):\n",
        "  charge = 5 + hours * 2.5\n",
        "  if charge < 10:\n",
        "    charge = 10.0\n",
        "  elif charge > 20:\n",
        "    charge = 20.0\n",
        "  print(f'Fee: ${charge}')\n",
        "# This creates function \"calcFee\" that calculates the charge for parking based on the number of hours parked.\n",
        "\n",
        "\n",
        "def main():\n",
        "  try:\n",
        "    hours = float(input(\"Please enter the number of hours parked: \"))\n",
        "    calcFee(hours)\n",
        "  except ValueError:\n",
        "    hours = float(input((\"Please provide number of hours as a digit:\")))\n",
        "    calcFee(hours)\n",
        "  except:\n",
        "    hours = float(input((\"Please provide number of hours as a digit:\")))\n",
        "    calcFee(hours)\n",
        "main()\n",
        "# This creates another function \"main\" that asks the user for the number of hours parked and runs that value through function \"calcFee\" and prints the result, but this version accounts for potential errors.\n",
        "\n",
        "if __name__ == \"__main__\":\n",
        "  main()"
      ],
      "metadata": {
        "id": "gbLisqPrJaLy"
      },
      "execution_count": null,
      "outputs": []
    },
    {
      "cell_type": "markdown",
      "source": [
        "Greeting Class"
      ],
      "metadata": {
        "id": "ZoExy4tn0ANg"
      }
    },
    {
      "cell_type": "code",
      "source": [
        "'''\n",
        "This code establishes class Greeting which includes first and last name.\n",
        "This class has several functions including display, __str__, & __repr__.\n",
        "This code prints greetings in several differents formats.\n",
        "'''\n",
        "\n",
        "class Greeting:\n",
        "  def __init__(self, first, last):\n",
        "    self.first = first\n",
        "    self.last = last\n",
        "  def display(self, formal=False):\n",
        "    if formal == True:\n",
        "      print(f'Hello {self.first} {self.last}!')\n",
        "    else:\n",
        "      print(f'Hello {self.first}.')\n",
        "  def __str__(self):\n",
        "    return f'{self.first},{self.last}'\n",
        "  def __repr__(self):\n",
        "    return f'{self.first},{self.last}'\n",
        "# This section establishes class Greeting which has several functions including display, __str__, & __repr__.\n",
        "\n",
        "greeting = Greeting('John','Smith')\n",
        "greeting.display(formal=True)\n",
        "greeting.display()\n",
        "print(greeting)\n",
        "# This section uses the functions established in the class to print greetings in several different formats."
      ],
      "metadata": {
        "id": "NHX7Wyp3JTb9"
      },
      "execution_count": null,
      "outputs": []
    },
    {
      "cell_type": "markdown",
      "source": [
        "Student Class"
      ],
      "metadata": {
        "id": "bCK0x0OW0BjB"
      }
    },
    {
      "cell_type": "code",
      "source": [
        "'''\n",
        "This code establishes class Student which includes name and number.\n",
        "This class includes several functions including enroll & get_courses.\n",
        "'''\n",
        "\n",
        "class Student:\n",
        "  def __init__(self, name, number):\n",
        "    self.name = name\n",
        "    self.number = number\n",
        "    self.courses = []\n",
        "  def enroll(self, course): # This function enrolls student in the provided course.\n",
        "    if course in self.courses:\n",
        "      print('You are already enrolled in that course.')\n",
        "    else:\n",
        "      self.courses.append(course)\n",
        "  def get_courses(self): # This function prints all the courses the student is enrolled in.\n",
        "    return self.courses\n",
        "# This section establishes class Student which has functions enroll & get_courses.\n",
        "\n",
        "s1 = Student('John Smith', 100)\n",
        "s1.enroll('BTE320')\n",
        "s1.enroll('BTE401')\n",
        "s1.enroll('BTE320')\n",
        "s1.enroll('BUS150')\n",
        "s1.enroll('BTE210')\n",
        "s1.enroll('BTE401')\n",
        "s1.get_courses()\n",
        "# This section creates student \"John Smith\" and enrolls him in several classes."
      ],
      "metadata": {
        "id": "1kis3E7oqQ1i"
      },
      "execution_count": null,
      "outputs": []
    },
    {
      "cell_type": "markdown",
      "source": [
        "Classes Point & Rectangle"
      ],
      "metadata": {
        "id": "USksTYWd0CSy"
      }
    },
    {
      "cell_type": "code",
      "source": [
        "'''\n",
        "This code creates two classes Point & Rectangle.\n",
        "Point establishes a point with x & y values.\n",
        "Rectangle establishes a rectangle with four points.\n",
        "These two classes contain functions to calculate distance and area.\n",
        "'''\n",
        "import math\n",
        "class Point:\n",
        "  def __init__(self, x, y):\n",
        "    self.x = x\n",
        "    self.y = y\n",
        "  def distance(self, other):\n",
        "    x_diff = self.x - other.x\n",
        "    y_diff = self.y - other.y\n",
        "    dist = (x_diff ** 2 + y_diff ** 2) ** 0.5\n",
        "    return dist\n",
        "# This section establishes class Point which contains x & y coordinates and calculates distance.\n",
        "\n",
        "class Rectangle:\n",
        "  def __init__(self, c1, c2, c3, c4):\n",
        "    self.c1 = c1\n",
        "    self.c2 = c2\n",
        "    self.c3 = c3\n",
        "    self.c4 = c4\n",
        "    self.width = self.calculate_width()\n",
        "    self.height = self.calculate_height()\n",
        "  def calculate_width(self):\n",
        "    return self.c1.distance(self.c2)\n",
        "  def calculate_height(self):\n",
        "    return self.c1.distance(self.c3)\n",
        "  def area(self):\n",
        "    return self.width * self.height\n",
        "# This section establishes class Rectangle and calculates width, height, & area.\n",
        "\n",
        "p1 = Point(0,0)\n",
        "p2 = Point(0,2)\n",
        "p3 = Point(2,0)\n",
        "p4 = Point(2,2)\n",
        "square = Rectangle(p1,p2,p3,p4)\n",
        "square.area()\n",
        "# This section establishes a rectangle & calculates its area."
      ],
      "metadata": {
        "id": "vpsuhbeSPOB8"
      },
      "execution_count": null,
      "outputs": []
    }
  ]
}